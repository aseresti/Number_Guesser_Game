{
 "cells": [
  {
   "cell_type": "code",
   "execution_count": 1,
   "metadata": {},
   "outputs": [],
   "source": [
    "user_number = input('Enter a number between 1 and 100')"
   ]
  },
  {
   "cell_type": "code",
   "execution_count": 2,
   "metadata": {},
   "outputs": [
    {
     "data": {
      "text/plain": [
       "'3'"
      ]
     },
     "execution_count": 2,
     "metadata": {},
     "output_type": "execute_result"
    }
   ],
   "source": [
    "user_number"
   ]
  },
  {
   "cell_type": "code",
   "execution_count": 3,
   "metadata": {},
   "outputs": [
    {
     "name": "stdout",
     "output_type": "stream",
     "text": [
      "['__add__', '__class__', '__contains__', '__delattr__', '__dir__', '__doc__', '__eq__', '__format__', '__ge__', '__getattribute__', '__getitem__', '__getnewargs__', '__gt__', '__hash__', '__init__', '__init_subclass__', '__iter__', '__le__', '__len__', '__lt__', '__mod__', '__mul__', '__ne__', '__new__', '__reduce__', '__reduce_ex__', '__repr__', '__rmod__', '__rmul__', '__setattr__', '__sizeof__', '__str__', '__subclasshook__', 'capitalize', 'casefold', 'center', 'count', 'encode', 'endswith', 'expandtabs', 'find', 'format', 'format_map', 'index', 'isalnum', 'isalpha', 'isascii', 'isdecimal', 'isdigit', 'isidentifier', 'islower', 'isnumeric', 'isprintable', 'isspace', 'istitle', 'isupper', 'join', 'ljust', 'lower', 'lstrip', 'maketrans', 'partition', 'removeprefix', 'removesuffix', 'replace', 'rfind', 'rindex', 'rjust', 'rpartition', 'rsplit', 'rstrip', 'split', 'splitlines', 'startswith', 'strip', 'swapcase', 'title', 'translate', 'upper', 'zfill']\n"
     ]
    }
   ],
   "source": [
    "print(dir(user_number))"
   ]
  },
  {
   "cell_type": "code",
   "execution_count": 5,
   "metadata": {},
   "outputs": [
    {
     "name": "stdout",
     "output_type": "stream",
     "text": [
      "True\n"
     ]
    }
   ],
   "source": [
    "print(user_number.isdigit())"
   ]
  },
  {
   "cell_type": "code",
   "execution_count": 6,
   "metadata": {},
   "outputs": [],
   "source": [
    "if user_number.isdigit():\n",
    "    user_number = int(user_number)"
   ]
  },
  {
   "cell_type": "code",
   "execution_count": 7,
   "metadata": {},
   "outputs": [
    {
     "data": {
      "text/plain": [
       "3"
      ]
     },
     "execution_count": 7,
     "metadata": {},
     "output_type": "execute_result"
    }
   ],
   "source": [
    "user_number"
   ]
  },
  {
   "cell_type": "code",
   "execution_count": 8,
   "metadata": {},
   "outputs": [],
   "source": [
    "import numbers"
   ]
  },
  {
   "cell_type": "code",
   "execution_count": 9,
   "metadata": {},
   "outputs": [],
   "source": [
    "import numpy as np"
   ]
  },
  {
   "cell_type": "code",
   "execution_count": 11,
   "metadata": {},
   "outputs": [],
   "source": [
    "random_number = np.random.rand(1,100)"
   ]
  },
  {
   "cell_type": "code",
   "execution_count": 12,
   "metadata": {},
   "outputs": [
    {
     "data": {
      "text/plain": [
       "array([[0.90927712, 0.39514891, 0.80671997, 0.95479072, 0.98436821,\n",
       "        0.10591586, 0.92129096, 0.34786254, 0.2368932 , 0.56412368,\n",
       "        0.69477791, 0.88968605, 0.55984526, 0.04506824, 0.64692736,\n",
       "        0.77667477, 0.14139209, 0.692639  , 0.84783876, 0.2257674 ,\n",
       "        0.22901766, 0.10648029, 0.37410453, 0.90933328, 0.39245383,\n",
       "        0.98840724, 0.33661323, 0.89005852, 0.77243408, 0.30377211,\n",
       "        0.33043544, 0.77879948, 0.83671458, 0.69569209, 0.79282309,\n",
       "        0.21914788, 0.52660089, 0.68696698, 0.35778083, 0.54227699,\n",
       "        0.90502929, 0.86862529, 0.85733792, 0.3931796 , 0.74068827,\n",
       "        0.50294755, 0.90337198, 0.35874175, 0.52715643, 0.29863156,\n",
       "        0.69568656, 0.97298583, 0.43751936, 0.14330987, 0.62418449,\n",
       "        0.54175995, 0.25749801, 0.99799154, 0.1290282 , 0.43258516,\n",
       "        0.13813455, 0.30257606, 0.21357914, 0.33133208, 0.5493571 ,\n",
       "        0.10592019, 0.84359917, 0.97891791, 0.6821757 , 0.45909527,\n",
       "        0.66051018, 0.27111967, 0.39787178, 0.35074131, 0.03064078,\n",
       "        0.44736374, 0.45024471, 0.55309784, 0.86851371, 0.86883349,\n",
       "        0.50457476, 0.91654165, 0.94686714, 0.66287242, 0.63383301,\n",
       "        0.87731815, 0.53022304, 0.2451295 , 0.88113714, 0.87198599,\n",
       "        0.31134394, 0.86102418, 0.905677  , 0.1367336 , 0.93100227,\n",
       "        0.53409996, 0.68896469, 0.55742745, 0.44047003, 0.1729512 ]])"
      ]
     },
     "execution_count": 12,
     "metadata": {},
     "output_type": "execute_result"
    }
   ],
   "source": [
    "random_number"
   ]
  },
  {
   "cell_type": "code",
   "execution_count": 28,
   "metadata": {},
   "outputs": [
    {
     "data": {
      "text/plain": [
       "94"
      ]
     },
     "execution_count": 28,
     "metadata": {},
     "output_type": "execute_result"
    }
   ],
   "source": [
    "random_number = np.random.randint(0,100)\n",
    "random_number"
   ]
  },
  {
   "cell_type": "code",
   "execution_count": 48,
   "metadata": {},
   "outputs": [],
   "source": [
    "def validate_input_number():\n",
    "    while True:\n",
    "        user_number = input(\"enter a number between 1 and 100\")\n",
    "        if not user_number.isdigit():\n",
    "            print(f\"your input, {user_number} is not valid\")\n",
    "            continue\n",
    "        else:\n",
    "            user_number = float(user_number)\n",
    "            if user_number > 100 or user_number < 1:\n",
    "                print(f\"your input, {user_number} is out of range\")\n",
    "                continue\n",
    "            else:\n",
    "                break\n",
    "    \n",
    "    return int(user_number)\n",
    "            \n"
   ]
  },
  {
   "cell_type": "code",
   "execution_count": 49,
   "metadata": {},
   "outputs": [
    {
     "name": "stdout",
     "output_type": "stream",
     "text": [
      "your input, 1000.0 is out of range\n",
      "your input, 0.1 is not valid\n",
      "your input, 0.0 is out of range\n",
      "your input, -1 is not valid\n"
     ]
    }
   ],
   "source": [
    "valid_num = validate_input_number()"
   ]
  },
  {
   "cell_type": "code",
   "execution_count": 65,
   "metadata": {},
   "outputs": [],
   "source": [
    "def compare_guess(random_number):\n",
    "    score = 100\n",
    "    while score > 0:\n",
    "        valid_num = validate_input_number()\n",
    "        if valid_num>random_number:\n",
    "            print(\"Hint: The number should be smaller\")\n",
    "            score -= 10 \n",
    "        elif valid_num<random_number:\n",
    "            print(\"Hint: The number should be larger\")\n",
    "            score -= 10\n",
    "        else:\n",
    "            print(\"Congratulations! You Won!\")\n",
    "            print(f\"Your Score is: {score}\")\n",
    "            break\n",
    "    else:\n",
    "        print('GAME OVER!')\n",
    "        print('Your out of score')"
   ]
  },
  {
   "cell_type": "code",
   "execution_count": 66,
   "metadata": {},
   "outputs": [
    {
     "name": "stdout",
     "output_type": "stream",
     "text": [
      "Hint: The number should be larger\n",
      "Hint: The number should be larger\n",
      "Hint: The number should be larger\n",
      "Hint: The number should be larger\n",
      "Hint: The number should be larger\n",
      "Hint: The number should be smaller\n",
      "Hint: The number should be smaller\n",
      "Hint: The number should be larger\n",
      "Congratulations! You Won!\n",
      "Your Score is: 20\n"
     ]
    }
   ],
   "source": [
    "random_num = np.random.randint(1,100)\n",
    "compare_guess(random_num)"
   ]
  }
 ],
 "metadata": {
  "kernelspec": {
   "display_name": "base",
   "language": "python",
   "name": "python3"
  },
  "language_info": {
   "codemirror_mode": {
    "name": "ipython",
    "version": 3
   },
   "file_extension": ".py",
   "mimetype": "text/x-python",
   "name": "python",
   "nbconvert_exporter": "python",
   "pygments_lexer": "ipython3",
   "version": "3.10.13"
  },
  "orig_nbformat": 4
 },
 "nbformat": 4,
 "nbformat_minor": 2
}
